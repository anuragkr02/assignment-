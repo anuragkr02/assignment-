{
 "cells": [
  {
   "cell_type": "code",
   "execution_count": null,
   "id": "bae1b772",
   "metadata": {},
   "outputs": [],
   "source": [
    "Q1. What are the three measures of central tendency?\n",
    "Ans:-\n",
    "The three measures of central tendency are:\n",
    "\n",
    "1.Mean: The mean is calculated by adding up all the values in a dataset and then dividing by the total number of values. It is sometimes also referred to as the arithmetic average.\n",
    "2.Median: The median is the middle value of a dataset when the values are arranged in order from lowest to highest (or vice versa). If the dataset has an even number of values, the median is the average of the two middle values.\n",
    "3.Mode: The mode is the value that appears most frequently in a dataset. If there are two or more values that appear with the same highest frequency, the dataset is said to be multimodal."
   ]
  },
  {
   "cell_type": "code",
   "execution_count": null,
   "id": "43e3295c",
   "metadata": {},
   "outputs": [],
   "source": [
    "Q2. What is the difference between the mean, median, and mode? How are they used to measure the\n",
    "central tendency of a dataset?\n",
    "Ans:-\n",
    "    \n",
    "The mean, median, and mode are three common measures of central tendency used in statistics.\n",
    "The mean is the average value of a dataset, obtained by adding up all the values and dividing by the total number of values.\n",
    "It is often used as a representative value of the dataset.\n",
    "\n",
    "The median is the middle value in a dataset when the values are arranged in numerical order. \n",
    "If the dataset has an odd number of values, the median is the middle value. If the dataset has an even number of values, the median is the average of the two middle values. It is a good measure of central tendency for datasets with outliers or skewed distributions.\n",
    "The mode is the value that appears most frequently in a dataset. It is used as a measure of central tendency for datasets with discrete values or categorical variables.\n",
    "\n",
    "Each measure of central tendency provides a different perspective on the dataset. The mean is sensitive to extreme values or outliers, while the median is more robust to them. The mode is useful for identifying the most common value in the dataset.\n",
    "Depending on the nature of the dataset and the research question, one or more of these measures of central tendency may be appropriate to use. For example, if we have a dataset of incomes, the mean may be a good representation of the typical income, but if the dataset includes a few individuals with extremely high incomes, the median may be a better measure of central tendency."
   ]
  },
  {
   "cell_type": "code",
   "execution_count": 7,
   "id": "0074c097",
   "metadata": {},
   "outputs": [
    {
     "data": {
      "text/plain": [
       "177.01875"
      ]
     },
     "execution_count": 7,
     "metadata": {},
     "output_type": "execute_result"
    }
   ],
   "source": [
    "#Q3. Measure the three measures of central tendency for the given height data:\n",
    "hight_data=[178,177,176,177,178.2,178,175,179,180,175,178.9,176.2,177,172.5,178,176.5]\n",
    "import numpy as np\n",
    "np.mean(hight_data)\n"
   ]
  },
  {
   "cell_type": "code",
   "execution_count": 8,
   "id": "397930ee",
   "metadata": {},
   "outputs": [
    {
     "data": {
      "text/plain": [
       "177.0"
      ]
     },
     "execution_count": 8,
     "metadata": {},
     "output_type": "execute_result"
    }
   ],
   "source": [
    "np.median(hight_data)"
   ]
  },
  {
   "cell_type": "code",
   "execution_count": 11,
   "id": "242c195c",
   "metadata": {},
   "outputs": [
    {
     "name": "stderr",
     "output_type": "stream",
     "text": [
      "C:\\Users\\anura\\AppData\\Local\\Temp\\ipykernel_1460\\2677743260.py:2: FutureWarning: Unlike other reduction functions (e.g. `skew`, `kurtosis`), the default behavior of `mode` typically preserves the axis it acts along. In SciPy 1.11.0, this behavior will change: the default value of `keepdims` will become False, the `axis` over which the statistic is taken will be eliminated, and the value None will no longer be accepted. Set `keepdims` to True or False to avoid this warning.\n",
      "  stats.mode(hight_data)\n"
     ]
    },
    {
     "data": {
      "text/plain": [
       "ModeResult(mode=array([177.]), count=array([3]))"
      ]
     },
     "execution_count": 11,
     "metadata": {},
     "output_type": "execute_result"
    }
   ],
   "source": [
    "from scipy import stats\n",
    "stats.mode(hight_data)"
   ]
  },
  {
   "cell_type": "code",
   "execution_count": 12,
   "id": "eb3c2936",
   "metadata": {},
   "outputs": [
    {
     "data": {
      "text/plain": [
       "1.7885814036548633"
      ]
     },
     "execution_count": 12,
     "metadata": {},
     "output_type": "execute_result"
    }
   ],
   "source": [
    "#Q4. Find the standard deviation for the given data:  \n",
    "#Ans:-    \n",
    "result_data=[178,177,176,177,178.2,178,175,179,180,175,178.9,176.2,177,172.5,178,176.5]\n",
    "np.std(result_data)"
   ]
  },
  {
   "cell_type": "code",
   "execution_count": null,
   "id": "d15376ea",
   "metadata": {},
   "outputs": [],
   "source": [
    "Q5. How are measures of dispersion such as range, variance, and standard deviation used to describe\n",
    "the spread of a dataset? Provide an example.\n",
    "Ans:-\n",
    "\n",
    "Measures of dispersion, such as range, variance, and standard deviation, are used to describe the spread or variability of a dataset. The range is the simplest measure of dispersion, which is defined as the difference between the largest and smallest values in a dataset. The variance and standard deviation are more sophisticated measures that take into account the distance of each data point from the mean.\n",
    "For example, suppose we have a dataset of the scores of ten students on a test:\n",
    "{65, 78, 82, 86, 90, 91, 94, 96, 98, 99}\n",
    "To calculate the range, we simply subtract the smallest value from the largest value:\n",
    "Range = 99 - 65 = 34\n",
    "The range tells us that the scores range from 65 to 99, a spread of 34 points.\n",
    "\n",
    "To calculate the variance and standard deviation, we first need to calculate the mean:\n",
    "Mean = (65 + 78 + 82 + 86 + 90 + 91 + 94 + 96 + 98 + 99) / 10 = 87.9\n",
    "\n",
    "Next, we calculate the deviation of each score from the mean:\n",
    "65 - 87.9 = -22.9\n",
    "78 - 87.9 = -9.9\n",
    "82 - 87.9 = -5.9\n",
    "86 - 87.9 = -1.9\n",
    "90 - 87.9 = 2.1\n",
    "91 - 87.9 = 3.1\n",
    "94 - 87.9 = 6.1\n",
    "96 - 87.9 = 8.1\n",
    "98 - 87.9 = 10.1\n",
    "99 - 87.9 = 11.1\n",
    "\n",
    "We then square each deviation:\n",
    "\n",
    "(-22.9)^2 = 524.41\n",
    "(-9.9)^2 = 98.01\n",
    "(-5.9)^2 = 34.81\n",
    "(-1.9)^2 = 3.61\n",
    "(2.1)^2 = 4.41\n",
    "(3.1)^2 = 9.61\n",
    "(6.1)^2 = 37.21\n",
    "(8.1)^2 = 65.61\n",
    "(10.1)^2 = 102.01\n",
    "(11.1)^2 = 123.21\n",
    "\n",
    "Next, we add up the squared deviations and divide by the number of data points minus one:\n",
    "\n",
    "Variance = (524.41 + 98.01 + 34.81 + 3.61 + 4.41 + 9.61 + 37.21 + 65.61 + 102.01 + 123.21) / 9 = 491.21 / 9 = 54.58\n",
    "\n",
    "The variance tells us that the average squared distance of each score from the mean is 54.58.\n",
    "\n",
    "Finally, we take the square root of the variance to get the standard deviation:\n",
    "\n",
    "Standard deviation = sqrt(54.58) = 7.39\n",
    "\n",
    "The standard deviation tells us that the average distance of each score from the mean is 7.39. In other words, most scores fall within 7.39 points of the mean."
   ]
  },
  {
   "cell_type": "code",
   "execution_count": null,
   "id": "92ae064c",
   "metadata": {},
   "outputs": [],
   "source": [
    "Q6. What is a Venn diagram?\n",
    "Ans:-\n",
    "   \n",
    "A Venn diagram is a graphical representation of sets or groups of objects, concepts, or ideas, using overlapping circles or other closed shapes. It is named after the British mathematician John Venn, who introduced this diagrammatic method in the late 19th century.   \n",
    "In a Venn diagram, each circle represents a set, and the overlapping parts represent the common elements or attributes shared by the sets. The diagram is used to show the relationships between sets and to illustrate the similarities and differences between them.\n",
    "Venn diagrams can be used in various fields, such as mathematics, statistics, logic, computer science, and even in business and marketing. They are a helpful tool for visualizing complex information and making comparisons between different groups or categories."
   ]
  },
  {
   "cell_type": "code",
   "execution_count": null,
   "id": "2bab90fc",
   "metadata": {},
   "outputs": [],
   "source": [
    "Q7. For the two given sets A = (2,3,4,5,6,7) & B = (0,2,6,8,10). Find:\n",
    "(i) A intersection B\n",
    "(ii) A ⋃ B\n",
    "Ans:-\n",
    "(i) A intersection B={2,6}   \n",
    "(ii)A Union B={0,2,3,4,5,6,7,8,10}"
   ]
  },
  {
   "cell_type": "code",
   "execution_count": null,
   "id": "3a6c5226",
   "metadata": {},
   "outputs": [],
   "source": [
    "Q8. What do you understand about skewness in data?\n",
    "Ans:-\n",
    "Skewness is a measure of the asymmetry of a probability distribution. In other words, it describes the extent to which a distribution is not symmetric.\n",
    "\n",
    "If a distribution is symmetric, it has a skewness of 0. If a distribution has a long tail on the right side, it is said to be positively skewed, and it has a positive skewness value.\n",
    "On the other hand, if a distribution has a long tail on the left side, it is said to be negatively skewed, and it has a negative skewness value.\n",
    "\n",
    "Skewness is important because it can affect the interpretation of statistical analyses.\n",
    "For example, if a distribution is positively skewed, the mean will be larger than the median, which means that the mean may not be a representative measure of the central tendency of the data. In this case, the median may be a better measure of the central tendency.\n",
    "\n",
    "Similarly, in negatively skewed distributions, the mean is smaller than the median, and the median may be a better measure of the central tendency.\n",
    "\n",
    "Skewness is commonly measured using the skewness coefficient, which is calculated by dividing the difference between the mean and the mode by the standard deviation. \n",
    "Another measure of skewness is the skewness statistic, which is based on the third moment of the distribution.\n",
    "\n",
    "\n",
    "\n",
    "\n"
   ]
  },
  {
   "cell_type": "code",
   "execution_count": null,
   "id": "5262cf95",
   "metadata": {},
   "outputs": [],
   "source": [
    "Q9. If a data is right skewed then what will be the position of median with respect to mean?\n",
    "Ans:-\n",
    "If a data is right skewed, the median will be less than the mean.\n",
    "This is because in a right-skewed distribution, the tail on the right side is longer than the tail on the left side, and this tail can pull the mean towards the right side, making it larger than the median.\n",
    "\n",
    "For example, consider a dataset with the following values: 1, 2, 3, 4, 5, 10. The mean of this dataset is (1+2+3+4+5+10)/6 = 25/6 ≈ 4.17, while the median is 3.5. Here, the data is right skewed because of the large value 10 on the right tail of the distribution. The mean is larger than the median, which indicates that the skewness is towards the right side.    "
   ]
  },
  {
   "cell_type": "code",
   "execution_count": null,
   "id": "70d089f4",
   "metadata": {},
   "outputs": [],
   "source": [
    "Q10. Explain the difference between covariance and correlation. How are these measures used in\n",
    "statistical analysis?\n",
    "Ans:-\n",
    "\n",
    "Covariance and correlation are two measures used in statistics to quantify the relationship between two variables.\n",
    "\n",
    "Covariance measures the direction and strength of the linear relationship between two variables.\n",
    "It is a measure of how much two variables change together.\n",
    "Specifically, covariance measures the average of the product of the deviations of the two variables from their respective means. \n",
    "If the covariance is positive, it indicates a positive relationship between the variables, meaning that they tend to increase or decrease together.\n",
    "If the covariance is negative, it indicates a negative relationship, meaning that when one variable increases, the other tends to decrease.\n",
    "\n",
    "On the other hand, correlation is a standardized version of covariance that measures the strength and direction of the linear relationship between two variables on a scale from -1 to 1. Correlation measures the degree to which two variables are related, and it is not affected by the scale of the variables.\n",
    "A correlation coefficient of 1 indicates a perfect positive relationship, a correlation coefficient of -1 indicates a perfect negative relationship, and a correlation coefficient of 0 indicates no linear relationship.\n",
    "\n",
    "In statistical analysis, covariance and correlation are used to assess the strength and direction of the relationship between two variables. They are commonly used in regression analysis to determine how much of the variation in one variable can be explained by the other. \n",
    "Correlation is often preferred over covariance because it is a standardized measure that is not affected by the scale of the variables. Correlation coefficients are also easier to interpret, as they range from -1 to 1, making it easier to compare the strength of the relationship between different pairs of variables.\n"
   ]
  },
  {
   "cell_type": "code",
   "execution_count": null,
   "id": "f594096e",
   "metadata": {},
   "outputs": [],
   "source": [
    "Q11. What is the formula for calculating the sample mean? Provide an example calculation for a\n",
    "dataset.\n",
    "Ans:-\n",
    "\n",
    "The formula for calculating the sample mean is:\n",
    "sample mean = (sum of all values in the sample) / (number of values in the sample)    "
   ]
  },
  {
   "cell_type": "code",
   "execution_count": null,
   "id": "66364da4",
   "metadata": {},
   "outputs": [],
   "source": [
    "Q12. For a normal distribution data what is the relationship between its measure of central tendency?\n",
    "Ans:-\n",
    "\n",
    "For a normal distribution, the three measures of central tendency – mean, median, and mode – are equal.\n",
    "This is because a normal distribution is symmetric around its mean, and the median and mode are also located at the center of the distribution. In other words, the mean, median, and mode all represent the same value in a normal distribution.\n",
    "\n",
    "For example, consider a dataset with a normal distribution of the following values: 1, 2, 3, 4, 5, 6, 7, 8, 9, 10.\n",
    "The mean of this dataset is (1+2+3+4+5+6+7+8+9+10)/10 = 5.5, which is also the median and mode of the dataset.\n",
    "However, in distributions that are not normal or are skewed, the measures of central tendency can be different from each other. \n",
    "For example, in a right-skewed distribution, the mean is larger than the median, which is larger than the mode.\n",
    "\n",
    "Similarly, in a left-skewed distribution, the mean is smaller than the median, which is smaller than the mode.\n"
   ]
  },
  {
   "cell_type": "code",
   "execution_count": null,
   "id": "18ebca61",
   "metadata": {},
   "outputs": [],
   "source": [
    "Q13. How is covariance different from correlation?\n",
    "Ans:-\n",
    "Covariance and correlation are both measures of the relationship between two variables, but they differ in a few key ways:\n",
    "\n",
    "1.Scale-dependence: Covariance is scale-dependent, which means that it can be affected by the units of measurement used for the variables. For example, if one variable is measured in meters and the other is measured in centimeters, the covariance will be different than if both variables were measured in meters. Correlation, on the other hand, is scale-independent and is not affected by the units of measurement used.\n",
    "\n",
    "2.Range: Covariance can take on any value between negative infinity and positive infinity, while correlation always takes on values between -1 and 1.\n",
    "\n",
    "3.Interpretation: Covariance measures the direction and strength of the linear relationship between two variables, but it doesn't provide information about the strength of the relationship. Correlation, on the other hand, provides a standardized measure of the strength and direction of the linear relationship between two variables. Correlation coefficients are easier to interpret because they always range from -1 to 1, with values close to -1 or 1 indicating a strong relationship and values close to 0 indicating a weak relationship.\n",
    "\n",
    "4.Mathematical properties: Covariance is a product of standard deviations, while correlation is a ratio of covariance to the product of standard deviations."
   ]
  },
  {
   "cell_type": "code",
   "execution_count": null,
   "id": "2a6d97af",
   "metadata": {},
   "outputs": [],
   "source": [
    "Q14. How do outliers affect measures of central tendency and dispersion? Provide an example.\n",
    "Ans:-\n",
    "Outliers can have a significant impact on measures of central tendency and dispersion, especially if they are extreme values that are very different from the rest of the data.\n",
    "\n",
    "Measures of central tendency such as the mean and median can be heavily influenced by outliers.\n",
    "The mean is particularly sensitive to outliers because it takes into account all values in the dataset, while the median is less affected because it is only based on the middle value(s) of the dataset.\n",
    "If there is an extreme outlier in a dataset, the mean will be pulled in the direction of the outlier, while the median will remain relatively stable.\n",
    "Therefore, the median may be a more appropriate measure of central tendency for datasets with outliers.\n",
    "\n",
    "Outliers can also affect measures of dispersion such as the range, standard deviation, and variance.\n",
    "The range is the difference between the largest and smallest values in the dataset, and an extreme outlier can greatly increase the range.\n",
    "Similarly, the standard deviation and variance can be inflated by outliers because they are based on the deviation of each value from the mean. \n",
    "An extreme outlier can greatly increase the deviation of the data, which can lead to an overestimate of the standard deviation and variance.\n",
    "\n",
    "For example, consider a dataset of test scores for a class of 20 students:    "
   ]
  }
 ],
 "metadata": {
  "kernelspec": {
   "display_name": "Python 3 (ipykernel)",
   "language": "python",
   "name": "python3"
  },
  "language_info": {
   "codemirror_mode": {
    "name": "ipython",
    "version": 3
   },
   "file_extension": ".py",
   "mimetype": "text/x-python",
   "name": "python",
   "nbconvert_exporter": "python",
   "pygments_lexer": "ipython3",
   "version": "3.9.13"
  }
 },
 "nbformat": 4,
 "nbformat_minor": 5
}
